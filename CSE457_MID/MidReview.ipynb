{
 "cells": [
  {
   "cell_type": "code",
   "execution_count": null,
   "id": "49ddc486",
   "metadata": {},
   "outputs": [],
   "source": [
    "import numpy as np\n",
    "import cv2\n",
    "import matplotlib.pyplot as plt"
   ]
  },
  {
   "cell_type": "code",
   "execution_count": null,
   "id": "e3e05c03",
   "metadata": {},
   "outputs": [],
   "source": [
    "def show_image(image, title='Image'):\n",
    "    if len(image.shape) == 2: \n",
    "        plt.imshow(image, cmap='gray')\n",
    "    else: \n",
    "        plt.imshow(cv2.cvtColor(image, cv2.COLOR_BGR2RGB))\n",
    "    plt.title(title)\n",
    "    plt.axis('off')\n",
    "    plt.show()"
   ]
  },
  {
   "cell_type": "markdown",
   "id": "6ea8458c",
   "metadata": {},
   "source": [
    "##### Load Image"
   ]
  },
  {
   "cell_type": "code",
   "execution_count": null,
   "id": "f973d5f7",
   "metadata": {},
   "outputs": [],
   "source": [
    "# TODO: create a function to convert an image to grayscale\n",
    "def convert_to_grayscale(image):\n",
    "    res_img = cv2.cvtColor(image, cv2.COLOR_BGR2GRAY)\n",
    "    return res_img\n",
    "\n",
    "def convert_to_binary(image, threshold=127):\n",
    "    grayscale_img =  cv2.cvtColor(image, cv2.COLOR_BGR2GRAY)\n",
    "    _, bi_img = cv2.threshold(grayscale_img, threshold, 255, cv2.THRESH_BINARY)\n",
    "    return bi_img\n",
    "\n",
    "def load_color_image(path):\n",
    "    return cv2.imread(path)"
   ]
  },
  {
   "cell_type": "markdown",
   "id": "4a0acd92",
   "metadata": {},
   "source": [
    "#### Load img to matrix"
   ]
  },
  {
   "cell_type": "code",
   "execution_count": null,
   "id": "446019f3",
   "metadata": {},
   "outputs": [],
   "source": [
    "def load_image(path):\n",
    "    return cv2.imread(path)\n",
    "\n",
    "def load_img_to_matrix(image):\n",
    "    image = load_image('color.png')\n",
    "    print(image)"
   ]
  },
  {
   "cell_type": "markdown",
   "id": "2f16145d",
   "metadata": {},
   "source": [
    "#### Max, min, avg, mid value"
   ]
  },
  {
   "cell_type": "code",
   "execution_count": null,
   "id": "f26b9c00",
   "metadata": {},
   "outputs": [],
   "source": [
    "def cal_img_parameter(image):\n",
    "    I_max = np.max(image)\n",
    "    I_min = np.min(image)\n",
    "    I_avg = np.mean(image)\n",
    "    I_med = np.median(image)\n",
    "\n"
   ]
  },
  {
   "cell_type": "markdown",
   "id": "4bc1ad33",
   "metadata": {},
   "source": [
    "#### Histogram for grayscale"
   ]
  },
  {
   "cell_type": "code",
   "execution_count": null,
   "id": "f60eebbc",
   "metadata": {},
   "outputs": [],
   "source": [
    "def histogram_gray(image):\n",
    "    hist, bins = np.histogram(image.flatten(), bins=256, range=[0, 256])\n",
    "\n",
    "    plt.title(\"Grayscale Histogram using libraries\")\n",
    "    plt.xlabel(\"Pixel value\")\n",
    "    plt.ylabel(\"Frequency\")\n",
    "    plt.plot(hist, color='blue')\n",
    "    plt.xlim([0, 256])\n",
    "    plt.grid(True)\n",
    "    plt.show()\n",
    "\n",
    "image = load_image('grayscale.png')\n",
    "image = convert_to_grayscale(image)\n",
    "show_image(image, title='Grayscale Image')\n",
    "histogram_gray(image)\n"
   ]
  },
  {
   "cell_type": "markdown",
   "id": "1c0a9405",
   "metadata": {},
   "source": [
    "#### Histogram for binary\n",
    "- 0 for Black\n",
    "- 1 for White"
   ]
  },
  {
   "cell_type": "code",
   "execution_count": null,
   "id": "adc9b4d1",
   "metadata": {},
   "outputs": [],
   "source": [
    "def histogram_bin(image):\n",
    "    hist, bin = np.histogram(image.flatten(), bins=[0, 128, 256])  # Gom 0 và 255\n",
    "\n",
    "    plt.bar([0, 1], hist, width=0.5, color='pink')\n",
    "    plt.title(\"Binary Histogram using numpy.histogram\")\n",
    "    plt.xlabel(\"Pixel value\")\n",
    "    plt.ylabel(\"Frequency\")\n",
    "    plt.xticks([0, 1], labels=[\"0\", \"1\"])\n",
    "    plt.grid(True)\n",
    "    plt.show()\n",
    "\n",
    "image = load_image('color.png')\n",
    "image = convert_to_binary(image)\n",
    "show_image(image, title='Binary Image')\n",
    "histogram_bin(image)"
   ]
  },
  {
   "cell_type": "markdown",
   "id": "4302eb12",
   "metadata": {},
   "source": [
    "#### Histogram for color img"
   ]
  },
  {
   "cell_type": "code",
   "execution_count": null,
   "id": "13d39820",
   "metadata": {},
   "outputs": [],
   "source": [
    "def library_rgb_histogram(image):\n",
    "    r_hist = cv2.calcHist([image], [2], None, [256], [0, 256])\n",
    "    g_hist = cv2.calcHist([image], [1], None, [256], [0, 256])\n",
    "    b_hist = cv2.calcHist([image], [0], None, [256], [0, 256])\n",
    "    return b_hist, g_hist, r_hist\n",
    "    \n",
    "img = load_image('image.png')\n",
    "show_image(img, title='Original Image')\n",
    "hist_bgr = library_rgb_histogram(img)\n",
    "\n",
    "for hist, color in zip(hist_bgr, ('b', 'g', 'r')):\n",
    "    plt.plot(hist, color=color)\n",
    "plt.title('Library RGB Histogram')\n",
    "plt.xlabel('Intensity')\n",
    "plt.ylabel('Frequency')\n",
    "plt.grid(True)\n",
    "plt.show()"
   ]
  },
  {
   "cell_type": "markdown",
   "id": "1bebd9d2",
   "metadata": {},
   "source": [
    "#### Fomulars"
   ]
  },
  {
   "cell_type": "markdown",
   "id": "e6127425",
   "metadata": {},
   "source": [
    "##### Brightness"
   ]
  },
  {
   "cell_type": "code",
   "execution_count": null,
   "id": "e70db012",
   "metadata": {},
   "outputs": [],
   "source": [
    "def brightness(image):\n",
    "   img = convert_to_grayscale(image)\n",
    "   brightness = np.mean(img)\n",
    "   return brightness"
   ]
  },
  {
   "cell_type": "markdown",
   "id": "32d5cf70",
   "metadata": {},
   "source": [
    "##### Increase the brightness of an image"
   ]
  },
  {
   "cell_type": "code",
   "execution_count": null,
   "id": "5dfdd1bb",
   "metadata": {},
   "outputs": [],
   "source": [
    "# TODO: By value\n",
    "def increase_brightness_by_value(image, value=30):\n",
    "    img = image.astype(np.int16)\n",
    "    brighter = np.clip(img + value, 0, 255)\n",
    "    return brighter.astype(np.uint8)\n",
    "\n",
    "# TODO: By percent\n",
    "def increase_brightness_percent(image, percent=20):\n",
    "    factor = 1 + (percent / 100)\n",
    "    bright = image.astype(np.float32) * factor\n",
    "    return np.clip(bright, 0, 255).astype(np.uint8)\n"
   ]
  },
  {
   "cell_type": "markdown",
   "id": "c6ad8223",
   "metadata": {},
   "source": [
    "##### Decrease the brightness of an image"
   ]
  },
  {
   "cell_type": "code",
   "execution_count": null,
   "id": "026ba8c6",
   "metadata": {},
   "outputs": [],
   "source": [
    "# TODO: By value\n",
    "def derease_brightness_by_value(image, value=30):\n",
    "    img = image.astype(np.int16)\n",
    "    brighter = np.clip(img - value, 0, 255)\n",
    "    return brighter.astype(np.uint8)\n",
    "\n",
    "# TODO: By percent\n",
    "def decrease_brightness_percent(image, percent=20):\n",
    "    factor = 1 - (percent / 100)\n",
    "    bright = image.astype(np.float32) * factor\n",
    "    return np.clip(bright, 0, 255).astype(np.uint8)"
   ]
  },
  {
   "cell_type": "markdown",
   "id": "274a0117",
   "metadata": {},
   "source": [
    "##### Michelson Contrast"
   ]
  },
  {
   "cell_type": "code",
   "execution_count": null,
   "id": "f7a2f11e",
   "metadata": {},
   "outputs": [],
   "source": [
    "def michelson_contrast(image):\n",
    "    I_max = np.max(image)\n",
    "    I_min = np.min(image)\n",
    "    michelson_contrast = (I_max - I_min) / (I_max + I_min + 1e-5)\n",
    "    return michelson_contrast\n",
    "\n",
    "image = load_image('image.png')\n",
    "image = convert_to_grayscale(image)\n",
    "image_contrast = michelson_contrast(image)\n",
    "print(image_contrast)"
   ]
  },
  {
   "cell_type": "markdown",
   "id": "ae93c017",
   "metadata": {},
   "source": [
    "##### Weber Contrast"
   ]
  },
  {
   "cell_type": "code",
   "execution_count": null,
   "id": "33ca9a25",
   "metadata": {},
   "outputs": [],
   "source": [
    "def weber_contrast(image):\n",
    "    I_o = np.max(image)  \n",
    "    I_b = np.mean(image) \n",
    "\n",
    "    if(I_b == 0):\n",
    "        return 0\n",
    "    contrast = (I_o - I_b) / I_b\n",
    "    return contrast\n",
    "\n",
    "image = load_image('image.png')\n",
    "image = convert_to_grayscale(image)\n",
    "image_contrast = weber_contrast(image)\n",
    "print(image_contrast)"
   ]
  },
  {
   "cell_type": "markdown",
   "id": "da93703c",
   "metadata": {},
   "source": [
    "##### Standard Deviation"
   ]
  },
  {
   "cell_type": "code",
   "execution_count": null,
   "id": "5e57e8d2",
   "metadata": {},
   "outputs": [],
   "source": [
    "def stdev_constrast(image):\n",
    "    #gray_img =  cv2.cvtColor(image, cv2.COLOR_BGR2GRAY)\n",
    "    return np.std(image)\n",
    "\n",
    "image = load_image('image.png')\n",
    "image = convert_to_grayscale(image)\n",
    "image_contrast = stdev_constrast(image)\n",
    "print(image_contrast)"
   ]
  },
  {
   "cell_type": "markdown",
   "id": "22404728",
   "metadata": {},
   "source": [
    "##### Perceptual Brightness"
   ]
  },
  {
   "cell_type": "code",
   "execution_count": null,
   "id": "fb556636",
   "metadata": {},
   "outputs": [],
   "source": [
    "def calculate_brightness(image):\n",
    "    R = image[:, :, 0].astype(float)\n",
    "    G = image[:, :, 1].astype(float)\n",
    "    B = image[:, :, 2].astype(float)\n",
    "\n",
    "    Brightness = 0.299 * R + 0.587 * G + 0.114 * B\n",
    "    return np.mean(Brightness)\n",
    "\n",
    "img = load_image('image.png')\n",
    "show_image(img, title='Original Image')\n",
    "brightness = calculate_brightness(img)\n",
    "print(f\"Perceptual Brightness: {brightness:.2f}\")"
   ]
  },
  {
   "cell_type": "markdown",
   "id": "25999a05",
   "metadata": {},
   "source": [
    "#### Contrast - Color image"
   ]
  },
  {
   "cell_type": "code",
   "execution_count": null,
   "id": "ceede4d3",
   "metadata": {},
   "outputs": [],
   "source": [
    "def calculate_contrast(image):\n",
    "    R = image[:, :, 0].astype(float)\n",
    "    G = image[:, :, 1].astype(float)\n",
    "    B = image[:, :, 2].astype(float)\n",
    "\n",
    "    Brightness = 0.299 * R + 0.587 * G + 0.114 * B\n",
    "    return np.std(Brightness)\n",
    "\n",
    "img = load_image('image.png')\n",
    "show_image(img, title='Original Image')\n",
    "contrast = calculate_contrast(img)\n",
    "print(f\"Image Contrast: {contrast:.2f}\")"
   ]
  },
  {
   "cell_type": "markdown",
   "id": "e0b5375f",
   "metadata": {},
   "source": [
    "1. **Overexposed Image**: An image that is too bright.\n",
    "2. **Underexposed Image**: An image that is too dark.\n",
    "3. **Binary Image**: A black-and-white image (containing only 0s and 255s)."
   ]
  },
  {
   "cell_type": "code",
   "execution_count": null,
   "id": "a40969fc",
   "metadata": {},
   "outputs": [],
   "source": [
    "img_overexposed = cv2.imread('overexposed_image.jpg', cv2.IMREAD_GRAYSCALE)\n",
    "img_underexposed = cv2.imread('underexposed_image.jpg', cv2.IMREAD_GRAYSCALE)\n",
    "img_binary = cv2.imread('binary_image.jpg', cv2.IMREAD_GRAYSCALE)\n",
    "\n",
    "if img_overexposed is None or img_underexposed is None or img_binary is None:\n",
    "    print(\"Error: Could not load one or more images. Please check the paths.\")\n",
    "else:\n",
    "    fig, axes = plt.subplots(1, 3, figsize=(15, 5))\n",
    "    axes[0].imshow(img_overexposed, cmap='gray')\n",
    "    axes[0].set_title('Original Overexposed Image')\n",
    "    axes[0].axis('off')\n",
    "    axes[1].imshow(img_underexposed, cmap='gray')\n",
    "    axes[1].set_title('Original Underexposed Image')\n",
    "    axes[1].axis('off')\n",
    "    axes[2].imshow(img_binary, cmap='gray')\n",
    "    axes[2].set_title('Original Binary Image')\n",
    "    axes[2].axis('off')\n",
    "    plt.show()"
   ]
  },
  {
   "cell_type": "markdown",
   "id": "79d00e35",
   "metadata": {},
   "source": [
    "#### Negative Image - Convert black to white and and vice versa\n"
   ]
  },
  {
   "cell_type": "code",
   "execution_count": null,
   "id": "d130473a",
   "metadata": {},
   "outputs": [],
   "source": [
    "def negative_transform(image):\n",
    "    return 255 - image\n",
    "\n",
    "img_overexposed_neg = negative_transform(img_overexposed)\n",
    "img_underexposed_neg = negative_transform(img_underexposed)\n",
    "img_binary_neg = negative_transform(img_binary)\n",
    "\n",
    "fig, axes = plt.subplots(2, 3, figsize=(15, 10))\n",
    "axes[0, 0].imshow(img_overexposed, cmap='gray')\n",
    "axes[0, 0].set_title('Original Overexposed')\n",
    "axes[0, 0].axis('off')\n",
    "axes[1, 0].imshow(img_overexposed_neg, cmap='gray')\n",
    "axes[1, 0].set_title('Negative Overexposed')\n",
    "axes[1, 0].axis('off')\n",
    "axes[0, 1].imshow(img_underexposed, cmap='gray')\n",
    "axes[0, 1].set_title('Original Underexposed')\n",
    "axes[0, 1].axis('off')\n",
    "axes[1, 1].imshow(img_underexposed_neg, cmap='gray')\n",
    "axes[1, 1].set_title('Negative Underexposed')\n",
    "axes[1, 1].axis('off')\n",
    "axes[0, 2].imshow(img_binary, cmap='gray')\n",
    "axes[0, 2].set_title('Original Binary')\n",
    "axes[0, 2].axis('off')\n",
    "axes[1, 2].imshow(img_binary_neg, cmap='gray')\n",
    "axes[1, 2].set_title('Negative Binary')\n",
    "axes[1, 2].axis('off')\n",
    "plt.tight_layout()\n",
    "plt.show()\n",
    "\n",
    "print(\"\\n--- Intensity Value Change Illustration (Negative Transformation) ---\")\n",
    "print(\"Original Pixel Value | Negative Pixel Value\")\n",
    "print(\"---------------------|---------------------\")\n",
    "print(f\"        0            |         {negative_transform(np.array([0]))[0]}\")\n",
    "print(f\"       50            |         {negative_transform(np.array([50]))[0]}\")\n",
    "print(f\"      128            |         {negative_transform(np.array([128]))[0]}\")\n",
    "print(f\"      200            |         {negative_transform(np.array([200]))[0]}\")\n",
    "print(f\"      255            |         {negative_transform(np.array([255]))[0]}\")\n"
   ]
  },
  {
   "cell_type": "markdown",
   "id": "acbffc1b",
   "metadata": {},
   "source": [
    "#### Thresholding (Binary Conversion)"
   ]
  },
  {
   "cell_type": "code",
   "execution_count": null,
   "id": "6268d32a",
   "metadata": {},
   "outputs": [],
   "source": [
    "def threshold_image(image, threshold):\n",
    "    if len(image.shape) == 3 and image.shape[2] == 3:\n",
    "        grayscale_img = cv2.cvtColor(image, cv2.COLOR_BGR2GRAY)\n",
    "    else:\n",
    "        grayscale_img = image  \n",
    "    _, bi_img = cv2.threshold(grayscale_img, threshold, 255, cv2.THRESH_BINARY)\n",
    "    return bi_img\n",
    "\n",
    "img_overexposed_binary = threshold_image(img_overexposed, 150)  # Example threshold for overexposed\n",
    "img_underexposed_binary = threshold_image(img_underexposed, 80)  # Example threshold for underexposed\n",
    "\n",
    "fig, axes = plt.subplots(2, 2, figsize=(10, 10))\n",
    "axes[0, 0].imshow(img_overexposed, cmap='gray')\n",
    "axes[0, 0].set_title('Original Overexposed')\n",
    "axes[0, 0].axis('off')\n",
    "axes[0, 1].imshow(img_overexposed_binary, cmap='gray')\n",
    "axes[0, 1].set_title(f'Binary Overexposed (Threshold={150})')\n",
    "axes[0, 1].axis('off')\n",
    "axes[1, 0].imshow(img_underexposed, cmap='gray')\n",
    "axes[1, 0].set_title('Original Underexposed')\n",
    "axes[1, 0].axis('off')\n",
    "axes[1, 1].imshow(img_underexposed_binary, cmap='gray')\n",
    "axes[1, 1].set_title(f'Binary Underexposed (Threshold={80})')\n",
    "axes[1, 1].axis('off')\n",
    "plt.tight_layout()\n",
    "plt.show()"
   ]
  },
  {
   "cell_type": "markdown",
   "id": "935ab04c",
   "metadata": {},
   "source": [
    "#### Log Transformation -> clearer the img - widen brighten area and narrow the black one"
   ]
  },
  {
   "cell_type": "code",
   "execution_count": null,
   "id": "8c8acba8",
   "metadata": {},
   "outputs": [],
   "source": [
    "def log_transform(image, c):\n",
    "    if len(image.shape) == 3 and image.shape[2] == 3:\n",
    "        grayscale_img = cv2.cvtColor(image, cv2.COLOR_BGR2GRAY)\n",
    "    else:\n",
    "        grayscale_img = image  \n",
    "        \n",
    "    c = 255 / np.log(256)\n",
    "    log_image = c * (np.log(image + 1))\n",
    "    log_image = np.array(log_image, dtype = np.uint8)\n",
    "    return log_image\n",
    "\n",
    "c_log = 10 # You can adjust this constant to control the log transformation effect\n",
    "img_underexposed_log = log_transform(img_underexposed, c_log)\n",
    "img_underexposed_log = np.clip(img_underexposed_log, 0, 255).astype(np.uint8)\n",
    "\n",
    "fig, axes = plt.subplots(1, 2, figsize=(10, 5))\n",
    "axes[0].imshow(img_underexposed, cmap='gray')\n",
    "axes[0].set_title('Original Underexposed')\n",
    "axes[0].axis('off')\n",
    "axes[1].imshow(img_underexposed_log, cmap='gray')\n",
    "axes[1].set_title(f'Log Transformed (c={c_log:.2f})')\n",
    "axes[1].axis('off')\n",
    "plt.show()"
   ]
  },
  {
   "cell_type": "markdown",
   "id": "75b4a576",
   "metadata": {},
   "source": [
    "#### Power-law (Gamma) Transformation"
   ]
  },
  {
   "cell_type": "code",
   "execution_count": null,
   "id": "89288802",
   "metadata": {},
   "outputs": [],
   "source": [
    "def gamma_transform(image, gamma):\n",
    "    if len(image.shape) == 3 and image.shape[2] == 3:\n",
    "        img = cv2.cvtColor(image, cv2.COLOR_BGR2GRAY)\n",
    "    else:\n",
    "        img = image  \n",
    "\n",
    "    c = 255.0\n",
    "    img_float = img / 255.0\n",
    "    gamma_corrected = c * np.power(img_float, gamma)\n",
    "    output = np.clip(gamma_corrected, 0, 255).astype(np.uint8)\n",
    "    return output\n",
    "\n",
    "# --- Experiment with Overexposed Image ---\n",
    "gamma_over_low = 0.5 # Example: Gamma < 1 to darken\n",
    "gamma_over_high = 2.0 # Example: Gamma > 1 to brighten (less common for overexposed)\n",
    "\n",
    "img_overexposed_gamma_low = gamma_transform(img_overexposed, gamma_over_low)\n",
    "img_overexposed_gamma_high = gamma_transform(img_overexposed, gamma_over_high)\n",
    "\n",
    "# --- Experiment with Underexposed Image ---\n",
    "gamma_under_low = 0.5 # Example: Gamma < 1 to brighten\n",
    "gamma_under_high = 2.0 # Example: Gamma > 1 to darken\n",
    "\n",
    "img_underexposed_gamma_low = gamma_transform(img_underexposed, gamma_under_low)\n",
    "img_underexposed_gamma_high = gamma_transform(img_underexposed, gamma_under_high)\n",
    "\n",
    "\n",
    "fig, axes = plt.subplots(2, 3, figsize=(15, 10))\n",
    "# Overexposed\n",
    "axes[0, 0].imshow(img_overexposed, cmap='gray')\n",
    "axes[0, 0].set_title('Original Overexposed')\n",
    "axes[0, 0].axis('off')\n",
    "axes[0, 1].imshow(img_overexposed_gamma_low, cmap='gray')\n",
    "axes[0, 1].set_title(f'Overexposed, Gamma={gamma_over_low}')\n",
    "axes[0, 1].axis('off')\n",
    "axes[0, 2].imshow(img_overexposed_gamma_high, cmap='gray')\n",
    "axes[0, 2].set_title(f'Overexposed, Gamma={gamma_over_high}')\n",
    "axes[0, 2].axis('off')\n",
    "# Underexposed\n",
    "axes[1, 0].imshow(img_underexposed, cmap='gray')\n",
    "axes[1, 0].set_title('Original Underexposed')\n",
    "axes[1, 0].axis('off')\n",
    "axes[1, 1].imshow(img_underexposed_gamma_low, cmap='gray')\n",
    "axes[1, 1].set_title(f'Underexposed, Gamma={gamma_under_low}')\n",
    "axes[1, 1].axis('off')\n",
    "axes[1, 2].imshow(img_underexposed_gamma_high, cmap='gray')\n",
    "axes[1, 2].set_title(f'Underexposed, Gamma={gamma_under_high}')\n",
    "axes[1, 2].axis('off')\n",
    "plt.tight_layout()\n",
    "plt.show()"
   ]
  },
  {
   "cell_type": "markdown",
   "id": "5d448ec4",
   "metadata": {},
   "source": [
    "#### Bit-plane Slicing"
   ]
  },
  {
   "cell_type": "code",
   "execution_count": null,
   "id": "38594685",
   "metadata": {},
   "outputs": [],
   "source": [
    "def get_bit_plane(image, bit):\n",
    "    if len(image.shape) == 3 and image.shape[2] == 3:\n",
    "        img = cv2.cvtColor(image, cv2.COLOR_BGR2GRAY)\n",
    "    else:\n",
    "        img = image  \n",
    "    \n",
    "    bit_mask = 1 << bit\n",
    "    bit_plane = cv2.bitwise_and(img, bit_mask)\n",
    "    return bit_plane\n",
    "\n",
    "img_for_bps = img_overexposed.copy()\n",
    "bit_planes = [get_bit_plane(img_for_bps, i) for i in range(8)]\n",
    "fig, axes = plt.subplots(2, 4, figsize=(20, 10))\n",
    "axes = axes.flatten()\n",
    "for i, plane in enumerate(bit_planes):\n",
    "    axes[i].imshow(plane, cmap='gray')\n",
    "    axes[i].set_title(f'Bit-plane {i} (LSB is 0, MSB is 7)')\n",
    "    axes[i].axis('off')\n",
    "plt.tight_layout()\n",
    "plt.show()\n",
    "\n",
    "# --- Reconstruct image from selected bit-planes ---\n",
    "selected_bit_planes_indices = [7, 6, 5, 4]\n",
    "reconstructed_image = np.zeros_like(img_for_bps, dtype=np.uint16) # Use uint16 to prevent overflow during summation\n",
    "for bit_idx in selected_bit_planes_indices:\n",
    "    reconstructed_image += (bit_planes[bit_idx] // 255) * (2**bit_idx)\n",
    "reconstructed_image = np.clip(reconstructed_image, 0, 255).astype(np.uint8)\n",
    "\n",
    "# Display original and reconstructed image\n",
    "fig, axes = plt.subplots(1, 2, figsize=(10, 5))\n",
    "axes[0].imshow(img_for_bps, cmap='gray')\n",
    "axes[0].set_title('Original Image')\n",
    "axes[0].axis('off')\n",
    "axes[1].imshow(reconstructed_image, cmap='gray')\n",
    "axes[1].set_title(f'Reconstructed (Bits: {selected_bit_planes_indices})')\n",
    "axes[1].axis('off')\n",
    "plt.show()"
   ]
  },
  {
   "cell_type": "markdown",
   "id": "04368ed3",
   "metadata": {},
   "source": [
    "##### Histogram Equalization - increase contrast for the whole pics (not like log just for the weak black and white area)"
   ]
  },
  {
   "cell_type": "code",
   "execution_count": null,
   "id": "5e45b4d9",
   "metadata": {},
   "outputs": [],
   "source": [
    "hist_original = cv2.calcHist([img_underexposed], [0], None, [256], [0, 256])\n",
    "cdf_original = hist_original.cumsum()\n",
    "cdf_normalized_original = cdf_original * hist_original.max() / cdf_original.max()\n",
    "\n",
    "img_for_hiseq = img_underexposed.copy()\n",
    "\n",
    "# TODO: Apply histogram equalization using cv2.equalizeHist\n",
    "img_underexposed_equalized = cv2.equalizeHist(img_for_hiseq)\n",
    "\n",
    "hist_equalized = cv2.calcHist([img_underexposed_equalized], [0], None, [256], [0, 256])\n",
    "cdf_equalized = hist_equalized.cumsum()\n",
    "cdf_normalized_equalized = cdf_equalized * hist_equalized.max() / cdf_equalized.max()\n",
    "\n",
    "\n",
    "fig, axes = plt.subplots(2, 3, figsize=(18, 10)) # Adjusted subplot layout\n",
    "\n",
    "axes[0, 0].imshow(img_underexposed, cmap='gray')\n",
    "axes[0, 0].set_title('Original Underexposed Image')\n",
    "axes[0, 0].axis('off')\n",
    "axes[0, 1].plot(hist_original, color='blue')\n",
    "axes[0, 1].set_title('Histogram of Original Image')\n",
    "axes[0, 1].set_xlabel('Pixel Value')\n",
    "axes[0, 1].set_ylabel('Frequency')\n",
    "axes[0, 1].set_xlim([0, 255])\n",
    "axes[0, 2].plot(cdf_normalized_original, color='red')\n",
    "axes[0, 2].set_title('CDF of Original Image')\n",
    "axes[0, 2].set_xlabel('Pixel Value')\n",
    "axes[0, 2].set_ylabel('Normalized Frequency')\n",
    "axes[0, 2].set_xlim([0, 255])\n",
    "axes[0, 2].grid(True)\n",
    "axes[1, 0].imshow(img_underexposed_equalized, cmap='gray')\n",
    "axes[1, 0].set_title('Equalized Underexposed Image')\n",
    "axes[1, 0].axis('off')\n",
    "axes[1, 1].plot(hist_equalized, color='blue')\n",
    "axes[1, 1].set_title('Histogram of Equalized Image')\n",
    "axes[1, 1].set_xlabel('Pixel Value')\n",
    "axes[1, 1].set_ylabel('Frequency')\n",
    "axes[1, 1].set_xlim([0, 255])\n",
    "axes[1, 2].plot(cdf_normalized_equalized, color='red')\n",
    "axes[1, 2].set_title('CDF of Equalized Image')\n",
    "axes[1, 2].set_xlabel('Pixel Value')\n",
    "axes[1, 2].set_ylabel('Normalized Frequency')\n",
    "axes[1, 2].set_xlim([0, 255])\n",
    "axes[1, 2].grid(True)\n",
    "plt.tight_layout()\n",
    "plt.show()"
   ]
  },
  {
   "cell_type": "markdown",
   "id": "ebdd15fd",
   "metadata": {},
   "source": [
    "#### Image Subtraction"
   ]
  },
  {
   "cell_type": "code",
   "execution_count": null,
   "id": "2e4b3dde",
   "metadata": {},
   "outputs": [],
   "source": [
    "img_binary = img_binary.copy()\n",
    "img_binary_subtracted = cv2.absdiff(img_binary, img_binary)\n",
    "\n",
    "# Display results\n",
    "fig, axes = plt.subplots(1, 2, figsize=(10, 5))\n",
    "axes[0].imshow(img_binary, cmap='gray')\n",
    "axes[0].set_title('Original Binary Image')\n",
    "axes[0].axis('off')\n",
    "axes[1].imshow(img_binary_subtracted, cmap='gray')\n",
    "axes[1].set_title('Binary Image After Self-Subtraction')\n",
    "axes[1].axis('off')\n",
    "plt.show()"
   ]
  },
  {
   "cell_type": "markdown",
   "id": "88b1a7f1",
   "metadata": {},
   "source": [
    "#### Image Averaging"
   ]
  },
  {
   "cell_type": "code",
   "execution_count": null,
   "id": "38eeab64",
   "metadata": {},
   "outputs": [],
   "source": [
    "img_averaged = ((img_underexposed.astype(np.float64) + img_overexposed.astype(np.float64)) / 2).astype(np.uint8)\n",
    "\n",
    "# Display results\n",
    "fig, axes = plt.subplots(1, 3, figsize=(15, 5))\n",
    "axes[0].imshow(img_underexposed, cmap='gray')\n",
    "axes[0].set_title('Original Underexposed')\n",
    "axes[0].axis('off')\n",
    "axes[1].imshow(img_overexposed, cmap='gray')\n",
    "axes[1].set_title('Original Overexposed')\n",
    "axes[1].axis('off')\n",
    "axes[2].imshow(img_averaged, cmap='gray')\n",
    "axes[2].set_title('Averaged Image')\n",
    "axes[2].axis('off')\n",
    "plt.show()"
   ]
  },
  {
   "cell_type": "markdown",
   "id": "f5140bb6",
   "metadata": {},
   "source": [
    "### Extra question: Convert from histogram to image"
   ]
  },
  {
   "cell_type": "code",
   "execution_count": null,
   "id": "04811451",
   "metadata": {},
   "outputs": [],
   "source": [
    "# Re-import required libraries due to kernel reset\n",
    "import numpy as np\n",
    "import matplotlib.pyplot as plt\n",
    "\n",
    "# --- Binary histogram example ---\n",
    "binary_hist = np.zeros(256, dtype=int)\n",
    "binary_hist[0] = 8000     # 8000 pixels of value 0 (black)\n",
    "binary_hist[255] = 8000   # 8000 pixels of value 255 (white)\n",
    "total_pixels_bin = binary_hist.sum()\n",
    "\n",
    "# --- Grayscale histogram example ---\n",
    "grayscale_hist = np.zeros(256, dtype=int)\n",
    "for i in range(256):\n",
    "    grayscale_hist[i] = int(100 * np.sin(i / 256 * np.pi))  # create wave-like histogram\n",
    "total_pixels_gray = grayscale_hist.sum()\n",
    "\n",
    "# Function to convert histogram to image\n",
    "def image_from_histogram(hist, image_shape):\n",
    "    pixel_values = []\n",
    "    for intensity, count in enumerate(hist):\n",
    "        pixel_values.extend([intensity] * count)\n",
    "    # Ensure total matches image size\n",
    "    total_required = image_shape[0] * image_shape[1]\n",
    "    pixel_values = pixel_values[:total_required]  # crop if too many\n",
    "    pixel_values += [0] * (total_required - len(pixel_values))  # pad if too few\n",
    "    np.random.shuffle(pixel_values)  # randomize to simulate natural image\n",
    "    return np.array(pixel_values).reshape(image_shape).astype(np.uint8)\n",
    "\n",
    "# Create images\n",
    "binary_image = image_from_histogram(binary_hist, (128, 125))  # 16000 pixels\n",
    "grayscale_image = image_from_histogram(grayscale_hist, (128, 256))  # 32768 pixels\n",
    "\n",
    "# Plot results\n",
    "fig, axes = plt.subplots(2, 3, figsize=(15, 8))\n",
    "\n",
    "# Binary\n",
    "axes[0, 0].imshow(binary_image, cmap='gray')\n",
    "axes[0, 0].set_title('Binary Image (from Histogram)')\n",
    "axes[0, 0].axis('off')\n",
    "axes[0, 1].bar(range(256), binary_hist, color='black')\n",
    "axes[0, 1].set_title('Binary Histogram')\n",
    "\n",
    "# Grayscale\n",
    "axes[1, 0].imshow(grayscale_image, cmap='gray')\n",
    "axes[1, 0].set_title('Grayscale Image (from Histogram)')\n",
    "axes[1, 0].axis('off')\n",
    "axes[1, 1].bar(range(256), grayscale_hist, color='black')\n",
    "axes[1, 1].set_title('Grayscale Histogram')\n",
    "\n",
    "# Show shape info\n",
    "axes[0, 2].text(0.1, 0.5, f'Binary: {binary_image.shape}\\nGrayscale: {grayscale_image.shape}', fontsize=14)\n",
    "axes[0, 2].axis('off')\n",
    "axes[1, 2].axis('off')\n",
    "\n",
    "plt.tight_layout()\n",
    "plt.show()\n"
   ]
  },
  {
   "cell_type": "code",
   "execution_count": null,
   "id": "b653f66b",
   "metadata": {},
   "outputs": [],
   "source": [
    "import numpy as np\n",
    "\n",
    "def binary_image_from_histogram(hist, image_shape):\n",
    "    \"\"\"\n",
    "    hist: array length 256, chỉ giá trị ở index 0 và 255\n",
    "    image_shape: (H, W) của ảnh muốn tạo\n",
    "    \"\"\"\n",
    "    assert hist[1:255].sum() == 0, \"Binary histogram chỉ nên có giá trị ở 0 và 255\"\n",
    "\n",
    "    total_pixels = image_shape[0] * image_shape[1]\n",
    "    pixels = [0] * hist[0] + [255] * hist[255]\n",
    "    pixels = pixels[:total_pixels]\n",
    "    pixels += [0] * (total_pixels - len(pixels))  # nếu thiếu, pad bằng 0\n",
    "    np.random.shuffle(pixels)\n",
    "    return np.array(pixels).reshape(image_shape).astype(np.uint8)\n",
    "\n",
    "def binary_image_from_histogram(hist, image_shape):\n",
    "    \"\"\"\n",
    "    hist: array length 256, chỉ giá trị ở index 0 và 255\n",
    "    image_shape: (H, W) của ảnh muốn tạo\n",
    "    \"\"\"\n",
    "    assert hist[1:255].sum() == 0, \"Binary histogram chỉ nên có giá trị ở 0 và 255\"\n",
    "\n",
    "    total_pixels = image_shape[0] * image_shape[1]\n",
    "    pixels = [0] * hist[0] + [255] * hist[255]\n",
    "    pixels = pixels[:total_pixels]\n",
    "    pixels += [0] * (total_pixels - len(pixels))  # nếu thiếu, pad bằng 0\n",
    "    np.random.shuffle(pixels)\n",
    "    return np.array(pixels).reshape(image_shape).astype(np.uint8)\n"
   ]
  }
 ],
 "metadata": {
  "kernelspec": {
   "display_name": ".lab2",
   "language": "python",
   "name": "python3"
  },
  "language_info": {
   "codemirror_mode": {
    "name": "ipython",
    "version": 3
   },
   "file_extension": ".py",
   "mimetype": "text/x-python",
   "name": "python",
   "nbconvert_exporter": "python",
   "pygments_lexer": "ipython3",
   "version": "3.13.5"
  }
 },
 "nbformat": 4,
 "nbformat_minor": 5
}

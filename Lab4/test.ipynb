{
 "cells": [
  {
   "cell_type": "markdown",
   "id": "bb6046ad",
   "metadata": {},
   "source": [
    "To create a virtual environment named `.lab3` for Lab 3, follow these steps:\n",
    "\n",
    "## Step 1: Navigate to your Lab3 directory\n",
    "```bash\n",
    "cd C:\\Users\\Satan\\Desktop\\CSE457\\Lab\\Lab3\n",
    "```\n",
    "\n",
    "## Step 2: Create the virtual environment with name `.lab3`\n",
    "```bash\n",
    "python -m venv .lab3\n",
    "```\n",
    "\n",
    "## Step 3: Activate the virtual environment\n",
    "```bash\n",
    ".lab3\\Scripts\\activate\n",
    "```\n",
    "\n",
    "## Step 4: Install required packages for Lab 3\n",
    "```bash\n",
    "pip install ipykernel opencv-python numpy matplotlib scikit-image\n",
    "```\n",
    "\n",
    "## Step 5: Install the kernel for Jupyter\n",
    "```bash\n",
    "python -m ipykernel install --user --name=lab3 --display-name=\"Lab3 Python\"\n",
    "```\n",
    "\n",
    "## Step 6: Select the kernel in VS Code\n",
    "1. Open your `Lab3.ipynb` file\n",
    "2. Press `Ctrl+Shift+P`\n",
    "3. Type \"Python: Select Interpreter\"\n",
    "4. Choose the interpreter from your `.lab3` virtual environment: `C:\\Users\\Satan\\Desktop\\CSE457\\Lab\\Lab3\\.lab3\\Scripts\\python.exe`\n",
    "\n",
    "## Verify setup\n",
    "- You should see `(.lab3)` in your terminal prompt when the virtual environment is activated\n",
    "- Your Jupyter notebook should show \"Lab3 Python\" as the selected kernel in the top-right corner\n",
    "- The `.lab3` folder will be created in your Lab3 directory (the dot prefix makes it a hidden folder)\n",
    "\n",
    "## To deactivate the virtual environment\n",
    "```bash\n",
    "deactivate\n",
    "```\n",
    "\n",
    "Now you have a dedicated virtual environment for Lab 3 with all required packages installed!"
   ]
  }
 ],
 "metadata": {
  "language_info": {
   "name": "python"
  }
 },
 "nbformat": 4,
 "nbformat_minor": 5
}
